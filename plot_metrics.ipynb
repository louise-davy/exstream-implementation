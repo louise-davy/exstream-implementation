{
 "cells": [
  {
   "cell_type": "code",
   "execution_count": null,
   "metadata": {},
   "outputs": [],
   "source": [
    "import os\n",
    "import numpy as np\n",
    "import pandas as pd\n",
    "import matplotlib.pyplot as plt"
   ]
  },
  {
   "cell_type": "code",
   "execution_count": null,
   "metadata": {},
   "outputs": [],
   "source": [
    "files = os.listdir(\"data/folder_1_results\")\n",
    "dct = {}\n",
    "for file in files:\n",
    "    if any(char == \"7\" for char in file):\n",
    "        df = pd.read_csv(f\"data/folder_1_results/{file}\", index_col=0)\n",
    "        df[\"id\"] = df[\"trace_id\"].astype(str) + \"_\" + df[\"ano_id\"].astype(str)\n",
    "        dct[file.split(\".\")[0] + \".\" + file.split(\".\")[1]] = df"
   ]
  },
  {
   "cell_type": "code",
   "execution_count": null,
   "metadata": {},
   "outputs": [],
   "source": [
    "for item, df in dct.items():\n",
    "    print(item, df[\"exp_instability\"].mean())"
   ]
  },
  {
   "cell_type": "code",
   "execution_count": null,
   "metadata": {},
   "outputs": [],
   "source": [
    "fig, ax = plt.subplots(1, 1, figsize=(15, 3))\n",
    "# axs = axs.flatten()\n",
    "colors = [\"red\", \"blue\", \"green\", \"yellow\"]\n",
    "\n",
    "idx = dct[\n",
    "    \"explanations_without_false_positive_filtering_without_cluster_threshold_0.7\"\n",
    "][\"id\"]\n",
    "ind = np.arange(len(idx))\n",
    "width = 0.2\n",
    "shift = 0\n",
    "items = list(dct.items())\n",
    "for i in range(4):\n",
    "    if i % 4 == 0:\n",
    "        shift = 0\n",
    "    name, df = items[i]\n",
    "    color = colors[i]\n",
    "    plt.bar(\n",
    "        ind + shift,\n",
    "        df[\"exp_instability\"],\n",
    "        # color=color,\n",
    "        width=width,\n",
    "        label=name,\n",
    "    )\n",
    "    plt.title(name)\n",
    "    # ax.set_xticklabels(df[\"id\"])\n",
    "    shift += 0.2\n",
    "\n",
    "plt.xticks(ind + width, idx, rotation=90)\n",
    "plt.legend()\n",
    "plt.show()"
   ]
  },
  {
   "cell_type": "code",
   "execution_count": null,
   "metadata": {},
   "outputs": [],
   "source": [
    "fig, ax = plt.subplots(1, 1, figsize=(15, 5))\n",
    "# axs = axs.flatten()\n",
    "colors = [\"red\", \"blue\", \"green\", \"yellow\"]\n",
    "\n",
    "idx = dct[\n",
    "    \"explanations_without_false_positive_filtering_without_cluster_threshold_0.7\"\n",
    "][\"id\"]\n",
    "ind = np.arange(len(idx))\n",
    "width = 0.2\n",
    "shift = 0\n",
    "items = list(dct.items())\n",
    "for i in range(4):\n",
    "    if i % 4 == 0:\n",
    "        shift = 0\n",
    "    name, df = items[i]\n",
    "    color = colors[i]\n",
    "    plt.bar(\n",
    "        ind + shift,\n",
    "        df[\"exp_size\"],\n",
    "        # color=color,\n",
    "        width=width,\n",
    "        label=name,\n",
    "    )\n",
    "    plt.title(name)\n",
    "    # ax.set_xticklabels(df[\"id\"])\n",
    "    shift += 0.2\n",
    "\n",
    "plt.xticks(ind + width, idx, rotation=90)\n",
    "plt.legend()\n",
    "plt.show()"
   ]
  }
 ],
 "metadata": {
  "kernelspec": {
   "display_name": "venv",
   "language": "python",
   "name": "python3"
  },
  "language_info": {
   "codemirror_mode": {
    "name": "ipython",
    "version": 3
   },
   "file_extension": ".py",
   "mimetype": "text/x-python",
   "name": "python",
   "nbconvert_exporter": "python",
   "pygments_lexer": "ipython3",
   "version": "3.11.4"
  }
 },
 "nbformat": 4,
 "nbformat_minor": 2
}
